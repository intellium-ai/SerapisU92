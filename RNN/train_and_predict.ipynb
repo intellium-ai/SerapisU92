{
 "cells": [
  {
   "cell_type": "markdown",
   "metadata": {},
   "source": [
    "The 'ft_pretrained_100k.pth' model in /streamlit_utils/models/ is a model pretrained on a large number of possibly correct SMILE strings, then fine tuned on the 303 molecules in the dataset. While this model has information on SMILE structure, it still needs to be fine tuned to predict a target variable.\n",
    "\n",
    "The index and column names and therefore variables which can be predicted:\n",
    "- [6] OB(CO2) : oxygen balance with respect to CO2\n",
    "- [7] r0 : density\n",
    "- [8] HGAS : gas-phase formation enthalpy\n",
    "- [9] HSUB : sublimation enthalpy\n",
    "- [10] Q : heat of explosion\n",
    "- [11] V : detonation velocity\n",
    "- [12] p : detonation pressure\n",
    "- [13] EG : gurney energy\n",
    "- [14] h50(obs) : drop weight impact height measured"
   ]
  },
  {
   "cell_type": "code",
   "execution_count": null,
   "metadata": {},
   "outputs": [],
   "source": [
    "target_var_index = 11\n",
    "model_name = 'detonation_velocity'"
   ]
  },
  {
   "cell_type": "markdown",
   "metadata": {},
   "source": [
    "# Train"
   ]
  },
  {
   "cell_type": "code",
   "execution_count": null,
   "metadata": {},
   "outputs": [],
   "source": [
    "from launcher_of_sm import train_predictor\n",
    "\n",
    "k = 10 # k-fold cross validation\n",
    "\n",
    "train_predictor(data_path='data/Dm.csv', \n",
    "                pretrained_path='streamlit_utils/models/ft_pretrained_100k.pth', \n",
    "                target_index=target_var_index, \n",
    "                epochs=100, \n",
    "                k=k, # k-fold cross validation, \n",
    "                SMILE_enumeration_level=50, # determines amount of training data - use 50/100\n",
    "                save_filename=model_name,\n",
    "                )"
   ]
  },
  {
   "cell_type": "markdown",
   "metadata": {},
   "source": [
    "### Select best model"
   ]
  },
  {
   "cell_type": "code",
   "execution_count": null,
   "metadata": {},
   "outputs": [],
   "source": [
    "import pandas as pd\n",
    "import os\n",
    "\n",
    "BEST_MODEL_CRITERIA = 'r2'\n",
    "\n",
    "# Identify best performing model\n",
    "training_performance = pd.read_csv(f'training_records/{model_name}_Train_Performance.csv')\n",
    "best_index = training_performance.idxmax()[BEST_MODEL_CRITERIA]\n",
    "\n",
    "# Move to streamlit models folder and delete other models\n",
    "for i in range(k):\n",
    "    if i != best_index and os.path.exists(f'training_records/{model_name}-{i}.pth'):\n",
    "        os.remove(f'training_records/{model_name}-{i}.pth')\n",
    "\n",
    "if os.path.exists(f'training_records/{model_name}_Train_Performance.csv'):\n",
    "    os.remove(f'training_records/{model_name}_Train_Performance.csv')\n",
    "\n",
    "if os.path.exists(f'training_records/{model_name}-{best_index}.pth'):\n",
    "    os.rename(f'training_records/{model_name}-{best_index}.pth', f'streamlit_utils/models/{model_name}.pth')\n"
   ]
  },
  {
   "cell_type": "markdown",
   "metadata": {},
   "source": [
    "# Prediction\n",
    "Input needs to be a CSV with one column of SMILE strings\n",
    "\n",
    "Only one variable is predicted at a time as each model is seperate\n",
    "\n",
    "It always calculates and writes the Synthetic Acessability (SA) scores as well"
   ]
  },
  {
   "cell_type": "code",
   "execution_count": null,
   "metadata": {},
   "outputs": [],
   "source": [
    "from launcher_of_sm import score\n",
    "\n",
    "molecules_file = 'three_isomers.csv'\n",
    "save_filename = 'three_isomers_V.csv' # note - only one variable is predicted at a time\n",
    "\n",
    "# Change these if you wish to predict a different variable from the one trained above\n",
    "model_file = f'streamlit_utils/models/{model_name}.pth'\n",
    "predict_var_index = target_var_index \n",
    "\n",
    "score(train_data_path='data/Dm.csv', \n",
    "      data_path=molecules_file, \n",
    "      model_path=model_file, \n",
    "      saving_path=save_filename, \n",
    "      SMILE_index_1=0, \n",
    "      SMILE_index_2=0, \n",
    "      target_index=predict_var_index)"
   ]
  }
 ],
 "metadata": {
  "kernelspec": {
   "display_name": "venv",
   "language": "python",
   "name": "python3"
  },
  "language_info": {
   "codemirror_mode": {
    "name": "ipython",
    "version": 3
   },
   "file_extension": ".py",
   "mimetype": "text/x-python",
   "name": "python",
   "nbconvert_exporter": "python",
   "pygments_lexer": "ipython3",
   "version": "3.10.12"
  }
 },
 "nbformat": 4,
 "nbformat_minor": 2
}
