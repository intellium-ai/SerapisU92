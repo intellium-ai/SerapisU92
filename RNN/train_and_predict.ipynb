{
 "cells": [
  {
   "cell_type": "markdown",
   "metadata": {},
   "source": [
    "# Training a Model\n",
    "The 'ft_pretrained_100k.pth' model in /streamlit_utils/models/ is a model pretrained on a large number of possibly correct SMILE strings, then fine tuned on the 303 molecules in the dataset. While this model has information on SMILE structure, it still needs to be fine tuned to predict a target variable.\n",
    "\n",
    "The column names and therefore variables which can be predicted:\n",
    "- OB(CO2) : oxygen balance with respect to CO2\n",
    "- r0 : density\n",
    "- HGAS : gas-phase formation enthalpy\n",
    "- HSUB : sublimation enthalpy\n",
    "- Q : heat of explosion\n",
    "- V : detonation velocity\n",
    "- p : detonation pressure\n",
    "- EG : gurney energy\n",
    "- h50(obs) : drop weight impact height measured"
   ]
  },
  {
   "cell_type": "code",
   "execution_count": 1,
   "metadata": {},
   "outputs": [],
   "source": [
    "target_var_index = 7 # Default is detonation velocity\n",
    "model_name = 'density'\n",
    "\n",
    "k = 10 # k-fold cross validation"
   ]
  },
  {
   "cell_type": "code",
   "execution_count": 2,
   "metadata": {},
   "outputs": [
    {
     "name": "stdout",
     "output_type": "stream",
     "text": [
      "Tokens: [' ', '#', '(', ')', '-', '/', '1', '2', '3', '4', '=', 'C', 'Cl', 'F', 'N', 'O', '[C@@H]', '[N+]', '[N-]', '[O-]', '[n+]', '[nH]', '^', 'c', 'n', 'o']\n",
      "Property name: r0\n"
     ]
    },
    {
     "name": "stderr",
     "output_type": "stream",
     "text": [
      "/home/harvey/Serapis/venv/lib/python3.10/site-packages/sklearn/model_selection/_split.py:700: UserWarning: The least populated class in y has only 1 members, which is less than n_splits=10.\n",
      "  warnings.warn(\n",
      "Training density-0:   1%|          | 1/100 [00:00<01:02,  1.59epoch/s]/home/harvey/Serapis/RNN/models/reg_rnn.py:96: UserWarning: To copy construct from a tensor, it is recommended to use sourceTensor.clone().detach() or sourceTensor.clone().detach().requires_grad_(True), rather than torch.tensor(sourceTensor).\n",
      "  valid_y = torch.tensor(valid_y, dtype=torch.float).to(device)\n",
      "Training density-0: 100%|██████████| 100/100 [00:52<00:00,  1.92epoch/s]\n",
      "Training density-1: 100%|██████████| 100/100 [00:57<00:00,  1.74epoch/s]\n",
      "Training density-2: 100%|██████████| 100/100 [00:58<00:00,  1.72epoch/s]\n",
      "Training density-3: 100%|██████████| 100/100 [00:58<00:00,  1.70epoch/s]\n",
      "Training density-4: 100%|██████████| 100/100 [00:58<00:00,  1.71epoch/s]\n",
      "Training density-5: 100%|██████████| 100/100 [00:59<00:00,  1.69epoch/s]\n",
      "Training density-6: 100%|██████████| 100/100 [00:57<00:00,  1.73epoch/s]\n",
      "Training density-7: 100%|██████████| 100/100 [00:58<00:00,  1.72epoch/s]\n",
      "Training density-8: 100%|██████████| 100/100 [00:58<00:00,  1.70epoch/s]\n",
      "Training density-9: 100%|██████████| 100/100 [00:57<00:00,  1.74epoch/s]\n"
     ]
    },
    {
     "name": "stdout",
     "output_type": "stream",
     "text": [
      "--- Final Results ---\n",
      "mae 0.01084136874445023\n",
      "rmse 0.01882944650298795\n",
      "r2 0.9539277071865216\n",
      "Time: 734.3068132400513\n"
     ]
    }
   ],
   "source": [
    "from launcher_of_sm import train_predictor\n",
    "\n",
    "train_predictor(data_path='data/Dm.csv', \n",
    "                pretrained_path='streamlit_utils/models/ft_pretrained_100k.pth', \n",
    "                target_index=target_var_index, \n",
    "                epochs=100, \n",
    "                k=k, # k-fold cross validation, \n",
    "                SMILE_enumeration_level=50, # determines amount of training data - use 50/100\n",
    "                save_filename=model_name,\n",
    "                )"
   ]
  },
  {
   "cell_type": "markdown",
   "metadata": {},
   "source": [
    "### Select best model"
   ]
  },
  {
   "cell_type": "code",
   "execution_count": 3,
   "metadata": {},
   "outputs": [],
   "source": [
    "import pandas as pd\n",
    "import os\n",
    "\n",
    "BEST_MODEL_CRITERIA = 'r2'\n",
    "\n",
    "# Identify best performing model\n",
    "training_performance = pd.read_csv(f'training_records/{model_name}_Train_Performance.csv')\n",
    "best_index = training_performance.idxmax()[BEST_MODEL_CRITERIA]\n",
    "\n",
    "# Move to streamlit models folder and delete other models\n",
    "for i in range(k):\n",
    "    if i != best_index and os.path.exists(f'training_records/{model_name}-{i}.pth'):\n",
    "        os.remove(f'training_records/{model_name}-{i}.pth')\n",
    "\n",
    "if os.path.exists(f'training_records/{model_name}_Train_Performance.csv'):\n",
    "    os.remove(f'training_records/{model_name}_Train_Performance.csv')\n",
    "\n",
    "if os.path.exists(f'training_records/{model_name}-{best_index}.pth'):\n",
    "    os.rename(f'training_records/{model_name}-{best_index}.pth', f'streamlit_utils/models/{model_name}.pth')\n"
   ]
  },
  {
   "cell_type": "markdown",
   "metadata": {},
   "source": [
    "# Prediction\n",
    "Input needs to be a CSV with one column of SMILE strings\n",
    "\n",
    "Only one variable is predicted at a time as each model is seperate\n",
    "\n",
    "It always calculates and writes the Synthetic Acessability (SA) scores as well"
   ]
  },
  {
   "cell_type": "code",
   "execution_count": 4,
   "metadata": {},
   "outputs": [
    {
     "name": "stdout",
     "output_type": "stream",
     "text": [
      "Excluding smile due to an unknown token. O=[N+](C1=NON=C1[N]2=C([N+]([O-])=O)NC([N+]([O-])=O)=N2)[O-]\n"
     ]
    }
   ],
   "source": [
    "from launcher_of_sm import score\n",
    "\n",
    "molecules_file = 'three_isomers.csv'\n",
    "save_filename = 'three_isomers_density.csv' # note - only one variable is predicted at a time\n",
    "\n",
    "# Change these if you wish to predict a different variable from the one trained above\n",
    "model_file = f'streamlit_utils/models/{model_name}.pth'\n",
    "predict_var_index = target_var_index \n",
    "\n",
    "score(train_data_path='data/Dm.csv', \n",
    "      data_path=molecules_file, \n",
    "      model_path=model_file, \n",
    "      saving_path=save_filename, \n",
    "      SMILE_index_1=0, \n",
    "      SMILE_index_2=0, \n",
    "      target_index=predict_var_index)"
   ]
  }
 ],
 "metadata": {
  "kernelspec": {
   "display_name": "venv",
   "language": "python",
   "name": "python3"
  },
  "language_info": {
   "codemirror_mode": {
    "name": "ipython",
    "version": 3
   },
   "file_extension": ".py",
   "mimetype": "text/x-python",
   "name": "python",
   "nbconvert_exporter": "python",
   "pygments_lexer": "ipython3",
   "version": "3.10.12"
  }
 },
 "nbformat": 4,
 "nbformat_minor": 2
}
